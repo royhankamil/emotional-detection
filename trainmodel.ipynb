{
 "cells": [
  {
   "cell_type": "markdown",
   "metadata": {},
   "source": [
    "## import library"
   ]
  },
  {
   "cell_type": "code",
   "execution_count": 1,
   "metadata": {},
   "outputs": [
    {
     "name": "stdout",
     "output_type": "stream",
     "text": [
      "WARNING:tensorflow:From c:\\Users\\Rizal\\AppData\\Local\\Programs\\Python\\Python39\\lib\\site-packages\\keras\\src\\losses.py:2976: The name tf.losses.sparse_softmax_cross_entropy is deprecated. Please use tf.compat.v1.losses.sparse_softmax_cross_entropy instead.\n",
      "\n"
     ]
    }
   ],
   "source": [
    "from keras.utils import to_categorical\n",
    "from keras.preprocessing.image import load_img\n",
    "from keras.models import Sequential\n",
    "from keras.layers import Dense, Conv2D, Dropout, Flatten, MaxPooling2D\n",
    "import os\n",
    "from tqdm.notebook import tqdm\n",
    "import pandas as pd\n",
    "import numpy as np\n"
   ]
  },
  {
   "cell_type": "code",
   "execution_count": 2,
   "metadata": {},
   "outputs": [],
   "source": [
    "TRAIN_DIR = \"images/train\"\n",
    "TEST_DIR = \"images/test\""
   ]
  },
  {
   "cell_type": "code",
   "execution_count": 3,
   "metadata": {},
   "outputs": [],
   "source": [
    "def Create_Data_Frame(dir):\n",
    "    image_paths = []\n",
    "    labels = []\n",
    "    for label in os.listdir(dir):\n",
    "        for imagename in os.listdir(os.path.join(dir, label)):\n",
    "            image_paths.append(os.path.join(dir, label, imagename))\n",
    "            labels.append(label)\n",
    "        print(label, \"completed\")\n",
    "    return image_paths, labels"
   ]
  },
  {
   "cell_type": "markdown",
   "metadata": {},
   "source": [
    "## Training Data"
   ]
  },
  {
   "cell_type": "code",
   "execution_count": 4,
   "metadata": {},
   "outputs": [
    {
     "name": "stdout",
     "output_type": "stream",
     "text": [
      "angry completed\n",
      "disgust completed\n",
      "fear completed\n",
      "happy completed\n",
      "neutral completed\n",
      "sad completed\n"
     ]
    },
    {
     "name": "stdout",
     "output_type": "stream",
     "text": [
      "surprise completed\n",
      "0              images/train\\angry\\0.jpg\n",
      "1              images/train\\angry\\1.jpg\n",
      "2             images/train\\angry\\10.jpg\n",
      "3          images/train\\angry\\10002.jpg\n",
      "4          images/train\\angry\\10016.jpg\n",
      "                      ...              \n",
      "28816    images/train\\surprise\\9969.jpg\n",
      "28817    images/train\\surprise\\9985.jpg\n",
      "28818    images/train\\surprise\\9990.jpg\n",
      "28819    images/train\\surprise\\9992.jpg\n",
      "28820    images/train\\surprise\\9996.jpg\n",
      "Name: image, Length: 28821, dtype: object\n"
     ]
    }
   ],
   "source": [
    "train = pd.DataFrame()\n",
    "train['image'], train['label'] = Create_Data_Frame(TRAIN_DIR)\n",
    "\n",
    "print(train['image'])"
   ]
  },
  {
   "cell_type": "markdown",
   "metadata": {},
   "source": [
    "## Test Data"
   ]
  },
  {
   "cell_type": "code",
   "execution_count": 5,
   "metadata": {},
   "outputs": [
    {
     "name": "stdout",
     "output_type": "stream",
     "text": [
      "angry completed\n",
      "disgust completed\n",
      "fear completed\n",
      "happy completed\n",
      "neutral completed\n",
      "sad completed\n",
      "surprise completed\n",
      "                              image     label\n",
      "0       images/test\\angry\\10052.jpg     angry\n",
      "1       images/test\\angry\\10065.jpg     angry\n",
      "2       images/test\\angry\\10079.jpg     angry\n",
      "3       images/test\\angry\\10095.jpg     angry\n",
      "4       images/test\\angry\\10121.jpg     angry\n",
      "...                             ...       ...\n",
      "7061  images/test\\surprise\\9806.jpg  surprise\n",
      "7062  images/test\\surprise\\9830.jpg  surprise\n",
      "7063  images/test\\surprise\\9853.jpg  surprise\n",
      "7064  images/test\\surprise\\9878.jpg  surprise\n",
      "7065   images/test\\surprise\\993.jpg  surprise\n",
      "\n",
      "[7066 rows x 2 columns]\n",
      "0         images/test\\angry\\10052.jpg\n",
      "1         images/test\\angry\\10065.jpg\n",
      "2         images/test\\angry\\10079.jpg\n",
      "3         images/test\\angry\\10095.jpg\n",
      "4         images/test\\angry\\10121.jpg\n",
      "                    ...              \n",
      "7061    images/test\\surprise\\9806.jpg\n",
      "7062    images/test\\surprise\\9830.jpg\n",
      "7063    images/test\\surprise\\9853.jpg\n",
      "7064    images/test\\surprise\\9878.jpg\n",
      "7065     images/test\\surprise\\993.jpg\n",
      "Name: image, Length: 7066, dtype: object\n"
     ]
    }
   ],
   "source": [
    "test = pd.DataFrame()\n",
    "test['image'], test['label'] = Create_Data_Frame(TEST_DIR)\n",
    "\n",
    "print(test)\n",
    "print(test['image'])"
   ]
  },
  {
   "cell_type": "code",
   "execution_count": 6,
   "metadata": {},
   "outputs": [],
   "source": [
    "def Extract_Features(images):\n",
    "    features = []\n",
    "    for image in tqdm(images):\n",
    "        img = load_img(image, grayscale=True)\n",
    "        img = np.array(img)\n",
    "        features.append(img)\n",
    "    features = np.array(features)\n",
    "    features = features.reshape(len(features), 48, 48, 1)\n",
    "    return features"
   ]
  },
  {
   "cell_type": "code",
   "execution_count": 8,
   "metadata": {},
   "outputs": [
    {
     "data": {
      "application/vnd.jupyter.widget-view+json": {
       "model_id": "585f044648624a8ebdcb6afd762fef1e",
       "version_major": 2,
       "version_minor": 0
      },
      "text/plain": [
       "  0%|          | 0/28821 [00:00<?, ?it/s]"
      ]
     },
     "metadata": {},
     "output_type": "display_data"
    }
   ],
   "source": [
    "train_features = Extract_Features(train['image'])"
   ]
  },
  {
   "cell_type": "code",
   "execution_count": 9,
   "metadata": {},
   "outputs": [
    {
     "data": {
      "application/vnd.jupyter.widget-view+json": {
       "model_id": "c84b25ae8b8f44dca7377231cca05477",
       "version_major": 2,
       "version_minor": 0
      },
      "text/plain": [
       "  0%|          | 0/7066 [00:00<?, ?it/s]"
      ]
     },
     "metadata": {},
     "output_type": "display_data"
    }
   ],
   "source": [
    "test_features = Extract_Features(test['image'])"
   ]
  },
  {
   "cell_type": "code",
   "execution_count": 10,
   "metadata": {},
   "outputs": [],
   "source": [
    "x_train = train_features/255.0\n",
    "x_test = test_features/255.0"
   ]
  },
  {
   "cell_type": "code",
   "execution_count": 11,
   "metadata": {},
   "outputs": [],
   "source": [
    "from sklearn.preprocessing import LabelEncoder"
   ]
  },
  {
   "cell_type": "code",
   "execution_count": 12,
   "metadata": {},
   "outputs": [
    {
     "data": {
      "text/html": [
       "<style>#sk-container-id-1 {color: black;}#sk-container-id-1 pre{padding: 0;}#sk-container-id-1 div.sk-toggleable {background-color: white;}#sk-container-id-1 label.sk-toggleable__label {cursor: pointer;display: block;width: 100%;margin-bottom: 0;padding: 0.3em;box-sizing: border-box;text-align: center;}#sk-container-id-1 label.sk-toggleable__label-arrow:before {content: \"▸\";float: left;margin-right: 0.25em;color: #696969;}#sk-container-id-1 label.sk-toggleable__label-arrow:hover:before {color: black;}#sk-container-id-1 div.sk-estimator:hover label.sk-toggleable__label-arrow:before {color: black;}#sk-container-id-1 div.sk-toggleable__content {max-height: 0;max-width: 0;overflow: hidden;text-align: left;background-color: #f0f8ff;}#sk-container-id-1 div.sk-toggleable__content pre {margin: 0.2em;color: black;border-radius: 0.25em;background-color: #f0f8ff;}#sk-container-id-1 input.sk-toggleable__control:checked~div.sk-toggleable__content {max-height: 200px;max-width: 100%;overflow: auto;}#sk-container-id-1 input.sk-toggleable__control:checked~label.sk-toggleable__label-arrow:before {content: \"▾\";}#sk-container-id-1 div.sk-estimator input.sk-toggleable__control:checked~label.sk-toggleable__label {background-color: #d4ebff;}#sk-container-id-1 div.sk-label input.sk-toggleable__control:checked~label.sk-toggleable__label {background-color: #d4ebff;}#sk-container-id-1 input.sk-hidden--visually {border: 0;clip: rect(1px 1px 1px 1px);clip: rect(1px, 1px, 1px, 1px);height: 1px;margin: -1px;overflow: hidden;padding: 0;position: absolute;width: 1px;}#sk-container-id-1 div.sk-estimator {font-family: monospace;background-color: #f0f8ff;border: 1px dotted black;border-radius: 0.25em;box-sizing: border-box;margin-bottom: 0.5em;}#sk-container-id-1 div.sk-estimator:hover {background-color: #d4ebff;}#sk-container-id-1 div.sk-parallel-item::after {content: \"\";width: 100%;border-bottom: 1px solid gray;flex-grow: 1;}#sk-container-id-1 div.sk-label:hover label.sk-toggleable__label {background-color: #d4ebff;}#sk-container-id-1 div.sk-serial::before {content: \"\";position: absolute;border-left: 1px solid gray;box-sizing: border-box;top: 0;bottom: 0;left: 50%;z-index: 0;}#sk-container-id-1 div.sk-serial {display: flex;flex-direction: column;align-items: center;background-color: white;padding-right: 0.2em;padding-left: 0.2em;position: relative;}#sk-container-id-1 div.sk-item {position: relative;z-index: 1;}#sk-container-id-1 div.sk-parallel {display: flex;align-items: stretch;justify-content: center;background-color: white;position: relative;}#sk-container-id-1 div.sk-item::before, #sk-container-id-1 div.sk-parallel-item::before {content: \"\";position: absolute;border-left: 1px solid gray;box-sizing: border-box;top: 0;bottom: 0;left: 50%;z-index: -1;}#sk-container-id-1 div.sk-parallel-item {display: flex;flex-direction: column;z-index: 1;position: relative;background-color: white;}#sk-container-id-1 div.sk-parallel-item:first-child::after {align-self: flex-end;width: 50%;}#sk-container-id-1 div.sk-parallel-item:last-child::after {align-self: flex-start;width: 50%;}#sk-container-id-1 div.sk-parallel-item:only-child::after {width: 0;}#sk-container-id-1 div.sk-dashed-wrapped {border: 1px dashed gray;margin: 0 0.4em 0.5em 0.4em;box-sizing: border-box;padding-bottom: 0.4em;background-color: white;}#sk-container-id-1 div.sk-label label {font-family: monospace;font-weight: bold;display: inline-block;line-height: 1.2em;}#sk-container-id-1 div.sk-label-container {text-align: center;}#sk-container-id-1 div.sk-container {/* jupyter's `normalize.less` sets `[hidden] { display: none; }` but bootstrap.min.css set `[hidden] { display: none !important; }` so we also need the `!important` here to be able to override the default hidden behavior on the sphinx rendered scikit-learn.org. See: https://github.com/scikit-learn/scikit-learn/issues/21755 */display: inline-block !important;position: relative;}#sk-container-id-1 div.sk-text-repr-fallback {display: none;}</style><div id=\"sk-container-id-1\" class=\"sk-top-container\"><div class=\"sk-text-repr-fallback\"><pre>LabelEncoder()</pre><b>In a Jupyter environment, please rerun this cell to show the HTML representation or trust the notebook. <br />On GitHub, the HTML representation is unable to render, please try loading this page with nbviewer.org.</b></div><div class=\"sk-container\" hidden><div class=\"sk-item\"><div class=\"sk-estimator sk-toggleable\"><input class=\"sk-toggleable__control sk-hidden--visually\" id=\"sk-estimator-id-1\" type=\"checkbox\" checked><label for=\"sk-estimator-id-1\" class=\"sk-toggleable__label sk-toggleable__label-arrow\">LabelEncoder</label><div class=\"sk-toggleable__content\"><pre>LabelEncoder()</pre></div></div></div></div></div>"
      ],
      "text/plain": [
       "LabelEncoder()"
      ]
     },
     "execution_count": 12,
     "metadata": {},
     "output_type": "execute_result"
    }
   ],
   "source": [
    "le = LabelEncoder()\n",
    "le.fit(train['label'])"
   ]
  },
  {
   "cell_type": "code",
   "execution_count": 14,
   "metadata": {},
   "outputs": [],
   "source": [
    "y_train = le.transform(train['label'])\n",
    "y_test = le.transform(test['label'])"
   ]
  },
  {
   "cell_type": "code",
   "execution_count": 15,
   "metadata": {},
   "outputs": [],
   "source": [
    "y_train = to_categorical(y_train, num_classes=7)\n",
    "y_test = to_categorical(y_test, num_classes=7)\n"
   ]
  },
  {
   "cell_type": "code",
   "execution_count": 16,
   "metadata": {},
   "outputs": [
    {
     "name": "stdout",
     "output_type": "stream",
     "text": [
      "WARNING:tensorflow:From c:\\Users\\Rizal\\AppData\\Local\\Programs\\Python\\Python39\\lib\\site-packages\\keras\\src\\backend.py:873: The name tf.get_default_graph is deprecated. Please use tf.compat.v1.get_default_graph instead.\n",
      "\n",
      "WARNING:tensorflow:From c:\\Users\\Rizal\\AppData\\Local\\Programs\\Python\\Python39\\lib\\site-packages\\keras\\src\\layers\\pooling\\max_pooling2d.py:161: The name tf.nn.max_pool is deprecated. Please use tf.nn.max_pool2d instead.\n",
      "\n"
     ]
    }
   ],
   "source": [
    "model = Sequential()\n",
    "\n",
    "model.add(Conv2D(128, kernel_size=(3,3), activation='relu', input_shape=[48, 48, 1]))\n",
    "model.add(MaxPooling2D(pool_size=(2, 2)))\n",
    "model.add(Dropout(0.4))\n",
    "\n",
    "model.add(Conv2D(256, kernel_size=(3,3), activation='relu'))\n",
    "model.add(MaxPooling2D(pool_size=(2, 2)))\n",
    "model.add(Dropout(0.4))\n",
    "\n",
    "model.add(Conv2D(512, kernel_size=(3,3), activation='relu'))\n",
    "model.add(MaxPooling2D(pool_size=(2, 2)))\n",
    "model.add(Dropout(0.4))\n",
    "\n",
    "model.add(Conv2D(512, kernel_size=(3,3), activation='relu'))\n",
    "model.add(MaxPooling2D(pool_size=(2, 2)))\n",
    "model.add(Dropout(0.4))\n",
    "\n",
    "model.add(Flatten())\n",
    "model.add(Dense(512, activation='relu'))\n",
    "model.add(Dropout(0.4))\n",
    "model.add(Dense(256, activation='relu'))\n",
    "model.add(Dropout(0.3))\n",
    "\n",
    "model.add(Dense(7, activation='softmax'))"
   ]
  },
  {
   "cell_type": "code",
   "execution_count": 20,
   "metadata": {},
   "outputs": [
    {
     "name": "stdout",
     "output_type": "stream",
     "text": [
      "Epoch 1/100\n",
      "226/226 [==============================] - 2553s 11s/step - loss: 1.8070 - accuracy: 0.2493 - val_loss: 1.7918 - val_accuracy: 0.2603\n",
      "Epoch 2/100\n",
      "226/226 [==============================] - 2257s 10s/step - loss: 1.7146 - accuracy: 0.2992 - val_loss: 1.5871 - val_accuracy: 0.3837\n",
      "Epoch 3/100\n",
      "226/226 [==============================] - 2375s 11s/step - loss: 1.5996 - accuracy: 0.3698 - val_loss: 1.5129 - val_accuracy: 0.4220\n",
      "Epoch 4/100\n",
      "226/226 [==============================] - 2885s 13s/step - loss: 1.5157 - accuracy: 0.4109 - val_loss: 1.4095 - val_accuracy: 0.4444\n",
      "Epoch 5/100\n",
      "226/226 [==============================] - 2647s 12s/step - loss: 1.4582 - accuracy: 0.4348 - val_loss: 1.3391 - val_accuracy: 0.4853\n",
      "Epoch 6/100\n",
      "226/226 [==============================] - 2354s 10s/step - loss: 1.4195 - accuracy: 0.4556 - val_loss: 1.3201 - val_accuracy: 0.5027\n",
      "Epoch 7/100\n",
      "226/226 [==============================] - 2439s 11s/step - loss: 1.3917 - accuracy: 0.4655 - val_loss: 1.2823 - val_accuracy: 0.5159\n",
      "Epoch 8/100\n",
      "226/226 [==============================] - 3383s 15s/step - loss: 1.3622 - accuracy: 0.4790 - val_loss: 1.2567 - val_accuracy: 0.5187\n",
      "Epoch 9/100\n",
      "226/226 [==============================] - 2864s 13s/step - loss: 1.3390 - accuracy: 0.4890 - val_loss: 1.2336 - val_accuracy: 0.5294\n",
      "Epoch 10/100\n",
      "226/226 [==============================] - 2259s 10s/step - loss: 1.3265 - accuracy: 0.4954 - val_loss: 1.2084 - val_accuracy: 0.5385\n",
      "Epoch 11/100\n",
      "226/226 [==============================] - 6527s 29s/step - loss: 1.3052 - accuracy: 0.5005 - val_loss: 1.1983 - val_accuracy: 0.5494\n",
      "Epoch 12/100\n",
      "226/226 [==============================] - 2621s 12s/step - loss: 1.2882 - accuracy: 0.5089 - val_loss: 1.1844 - val_accuracy: 0.5534\n",
      "Epoch 13/100\n",
      "226/226 [==============================] - 2873s 13s/step - loss: 1.2772 - accuracy: 0.5114 - val_loss: 1.1789 - val_accuracy: 0.5575\n",
      "Epoch 14/100\n",
      "226/226 [==============================] - 2124s 9s/step - loss: 1.2623 - accuracy: 0.5181 - val_loss: 1.1898 - val_accuracy: 0.5507\n",
      "Epoch 15/100\n",
      "226/226 [==============================] - 2064s 9s/step - loss: 1.2468 - accuracy: 0.5256 - val_loss: 1.1687 - val_accuracy: 0.5613\n",
      "Epoch 16/100\n",
      "226/226 [==============================] - 1944s 9s/step - loss: 1.2345 - accuracy: 0.5303 - val_loss: 1.1523 - val_accuracy: 0.5644\n",
      "Epoch 17/100\n",
      "226/226 [==============================] - 2148s 10s/step - loss: 1.2204 - accuracy: 0.5354 - val_loss: 1.1391 - val_accuracy: 0.5716\n",
      "Epoch 18/100\n",
      "226/226 [==============================] - 3204s 14s/step - loss: 1.2154 - accuracy: 0.5396 - val_loss: 1.1428 - val_accuracy: 0.5659\n",
      "Epoch 19/100\n",
      "226/226 [==============================] - 2768s 12s/step - loss: 1.2077 - accuracy: 0.5384 - val_loss: 1.1341 - val_accuracy: 0.5726\n",
      "Epoch 20/100\n",
      "226/226 [==============================] - 3353s 15s/step - loss: 1.1993 - accuracy: 0.5456 - val_loss: 1.1448 - val_accuracy: 0.5761\n",
      "Epoch 21/100\n",
      "226/226 [==============================] - 2547s 11s/step - loss: 1.1932 - accuracy: 0.5485 - val_loss: 1.1209 - val_accuracy: 0.5828\n",
      "Epoch 22/100\n",
      "226/226 [==============================] - 2059s 9s/step - loss: 1.1819 - accuracy: 0.5537 - val_loss: 1.1092 - val_accuracy: 0.5759\n",
      "Epoch 23/100\n",
      "226/226 [==============================] - 2519s 11s/step - loss: 1.1713 - accuracy: 0.5552 - val_loss: 1.1047 - val_accuracy: 0.5860\n",
      "Epoch 24/100\n",
      "226/226 [==============================] - 2843s 13s/step - loss: 1.1658 - accuracy: 0.5593 - val_loss: 1.1045 - val_accuracy: 0.5866\n",
      "Epoch 25/100\n",
      "226/226 [==============================] - 2823s 12s/step - loss: 1.1625 - accuracy: 0.5575 - val_loss: 1.1014 - val_accuracy: 0.5885\n",
      "Epoch 26/100\n",
      "226/226 [==============================] - 1809s 8s/step - loss: 1.1486 - accuracy: 0.5667 - val_loss: 1.0873 - val_accuracy: 0.5954\n",
      "Epoch 27/100\n",
      "226/226 [==============================] - 1850s 8s/step - loss: 1.1396 - accuracy: 0.5698 - val_loss: 1.1059 - val_accuracy: 0.5866\n",
      "Epoch 28/100\n",
      "226/226 [==============================] - 1817s 8s/step - loss: 1.1375 - accuracy: 0.5680 - val_loss: 1.0914 - val_accuracy: 0.5931\n",
      "Epoch 29/100\n",
      "226/226 [==============================] - 1823s 8s/step - loss: 1.1308 - accuracy: 0.5740 - val_loss: 1.0881 - val_accuracy: 0.5904\n",
      "Epoch 30/100\n",
      "226/226 [==============================] - 1805s 8s/step - loss: 1.1189 - accuracy: 0.5792 - val_loss: 1.0955 - val_accuracy: 0.5921\n",
      "Epoch 31/100\n",
      "226/226 [==============================] - 12986s 58s/step - loss: 1.1209 - accuracy: 0.5767 - val_loss: 1.0724 - val_accuracy: 0.6012\n",
      "Epoch 32/100\n",
      "226/226 [==============================] - 2553s 11s/step - loss: 1.1156 - accuracy: 0.5762 - val_loss: 1.0811 - val_accuracy: 0.5961\n",
      "Epoch 33/100\n",
      "226/226 [==============================] - 2513s 11s/step - loss: 1.0963 - accuracy: 0.5889 - val_loss: 1.0737 - val_accuracy: 0.5991\n",
      "Epoch 34/100\n",
      "226/226 [==============================] - 2147s 9s/step - loss: 1.0989 - accuracy: 0.5818 - val_loss: 1.0750 - val_accuracy: 0.5979\n",
      "Epoch 35/100\n",
      "226/226 [==============================] - 2179s 10s/step - loss: 1.0931 - accuracy: 0.5871 - val_loss: 1.0916 - val_accuracy: 0.5954\n",
      "Epoch 36/100\n",
      "226/226 [==============================] - 2063s 9s/step - loss: 1.0873 - accuracy: 0.5907 - val_loss: 1.0704 - val_accuracy: 0.5985\n",
      "Epoch 37/100\n",
      "226/226 [==============================] - 1847s 8s/step - loss: 1.0861 - accuracy: 0.5866 - val_loss: 1.0618 - val_accuracy: 0.6039\n",
      "Epoch 38/100\n",
      "226/226 [==============================] - 1963s 9s/step - loss: 1.0796 - accuracy: 0.5916 - val_loss: 1.0832 - val_accuracy: 0.5971\n",
      "Epoch 39/100\n",
      "226/226 [==============================] - 1889s 8s/step - loss: 1.0756 - accuracy: 0.5973 - val_loss: 1.0625 - val_accuracy: 0.6015\n",
      "Epoch 40/100\n",
      "226/226 [==============================] - 1978s 9s/step - loss: 1.0611 - accuracy: 0.5966 - val_loss: 1.0543 - val_accuracy: 0.6029\n",
      "Epoch 41/100\n",
      "226/226 [==============================] - 2404s 11s/step - loss: 1.0547 - accuracy: 0.6019 - val_loss: 1.0621 - val_accuracy: 0.6025\n",
      "Epoch 42/100\n",
      "226/226 [==============================] - 2358s 10s/step - loss: 1.0540 - accuracy: 0.5996 - val_loss: 1.0484 - val_accuracy: 0.6087\n",
      "Epoch 43/100\n",
      "226/226 [==============================] - 15029s 67s/step - loss: 1.0586 - accuracy: 0.6042 - val_loss: 1.0635 - val_accuracy: 0.6015\n",
      "Epoch 44/100\n",
      "226/226 [==============================] - 2349s 10s/step - loss: 1.0461 - accuracy: 0.6091 - val_loss: 1.0669 - val_accuracy: 0.6039\n",
      "Epoch 45/100\n",
      "226/226 [==============================] - 2941s 13s/step - loss: 1.0531 - accuracy: 0.6016 - val_loss: 1.0533 - val_accuracy: 0.6068\n",
      "Epoch 46/100\n",
      "226/226 [==============================] - 2734s 12s/step - loss: 1.0331 - accuracy: 0.6141 - val_loss: 1.0513 - val_accuracy: 0.6027\n",
      "Epoch 47/100\n",
      "226/226 [==============================] - 3511s 16s/step - loss: 1.0299 - accuracy: 0.6103 - val_loss: 1.0595 - val_accuracy: 0.6054\n",
      "Epoch 48/100\n",
      "226/226 [==============================] - 2990s 13s/step - loss: 1.0309 - accuracy: 0.6117 - val_loss: 1.0578 - val_accuracy: 0.6066\n",
      "Epoch 49/100\n",
      "226/226 [==============================] - 2315s 10s/step - loss: 1.0310 - accuracy: 0.6116 - val_loss: 1.0578 - val_accuracy: 0.6094\n",
      "Epoch 50/100\n",
      "226/226 [==============================] - 3454s 15s/step - loss: 1.0217 - accuracy: 0.6177 - val_loss: 1.0548 - val_accuracy: 0.6066\n",
      "Epoch 51/100\n",
      "226/226 [==============================] - 30881s 137s/step - loss: 1.0179 - accuracy: 0.6182 - val_loss: 1.0556 - val_accuracy: 0.6050\n",
      "Epoch 52/100\n",
      "226/226 [==============================] - 2094s 9s/step - loss: 1.0104 - accuracy: 0.6212 - val_loss: 1.0470 - val_accuracy: 0.6100\n",
      "Epoch 53/100\n",
      "226/226 [==============================] - 16626s 74s/step - loss: 1.0115 - accuracy: 0.6178 - val_loss: 1.0421 - val_accuracy: 0.6112\n",
      "Epoch 54/100\n",
      "226/226 [==============================] - 1839s 8s/step - loss: 0.9991 - accuracy: 0.6233 - val_loss: 1.0669 - val_accuracy: 0.6064\n",
      "Epoch 55/100\n",
      "226/226 [==============================] - 1856s 8s/step - loss: 0.9930 - accuracy: 0.6268 - val_loss: 1.0380 - val_accuracy: 0.6149\n",
      "Epoch 56/100\n",
      "226/226 [==============================] - 1998s 9s/step - loss: 0.9916 - accuracy: 0.6262 - val_loss: 1.0465 - val_accuracy: 0.6121\n",
      "Epoch 57/100\n",
      "226/226 [==============================] - 2387s 11s/step - loss: 0.9897 - accuracy: 0.6280 - val_loss: 1.0406 - val_accuracy: 0.6162\n",
      "Epoch 58/100\n",
      "226/226 [==============================] - 2649s 12s/step - loss: 0.9866 - accuracy: 0.6295 - val_loss: 1.0393 - val_accuracy: 0.6136\n",
      "Epoch 59/100\n",
      "226/226 [==============================] - 1995s 9s/step - loss: 0.9797 - accuracy: 0.6332 - val_loss: 1.0543 - val_accuracy: 0.6091\n",
      "Epoch 60/100\n",
      "226/226 [==============================] - 1883s 8s/step - loss: 0.9750 - accuracy: 0.6340 - val_loss: 1.0489 - val_accuracy: 0.6139\n",
      "Epoch 61/100\n",
      "226/226 [==============================] - 2422s 11s/step - loss: 0.9752 - accuracy: 0.6353 - val_loss: 1.0413 - val_accuracy: 0.6127\n",
      "Epoch 62/100\n",
      "226/226 [==============================] - 2250s 10s/step - loss: 0.9696 - accuracy: 0.6369 - val_loss: 1.0255 - val_accuracy: 0.6187\n",
      "Epoch 63/100\n",
      "226/226 [==============================] - 2257s 10s/step - loss: 0.9625 - accuracy: 0.6425 - val_loss: 1.0270 - val_accuracy: 0.6177\n",
      "Epoch 64/100\n",
      "226/226 [==============================] - 2457s 11s/step - loss: 0.9589 - accuracy: 0.6412 - val_loss: 1.0330 - val_accuracy: 0.6182\n",
      "Epoch 65/100\n",
      "226/226 [==============================] - 2425s 11s/step - loss: 0.9523 - accuracy: 0.6410 - val_loss: 1.0287 - val_accuracy: 0.6228\n",
      "Epoch 66/100\n",
      "226/226 [==============================] - 2211s 10s/step - loss: 0.9548 - accuracy: 0.6443 - val_loss: 1.0262 - val_accuracy: 0.6243\n",
      "Epoch 67/100\n",
      "226/226 [==============================] - 1989s 9s/step - loss: 0.9440 - accuracy: 0.6484 - val_loss: 1.0373 - val_accuracy: 0.6197\n",
      "Epoch 68/100\n",
      "226/226 [==============================] - 2039s 9s/step - loss: 0.9397 - accuracy: 0.6525 - val_loss: 1.0266 - val_accuracy: 0.6209\n",
      "Epoch 69/100\n",
      "226/226 [==============================] - 2297s 10s/step - loss: 0.9434 - accuracy: 0.6495 - val_loss: 1.0206 - val_accuracy: 0.6268\n",
      "Epoch 70/100\n",
      "226/226 [==============================] - 2255s 10s/step - loss: 0.9388 - accuracy: 0.6477 - val_loss: 1.0202 - val_accuracy: 0.6228\n",
      "Epoch 71/100\n",
      "226/226 [==============================] - 2283s 10s/step - loss: 0.9335 - accuracy: 0.6528 - val_loss: 1.0226 - val_accuracy: 0.6228\n",
      "Epoch 72/100\n",
      "226/226 [==============================] - 2283s 10s/step - loss: 0.9263 - accuracy: 0.6557 - val_loss: 1.0358 - val_accuracy: 0.6149\n",
      "Epoch 73/100\n",
      "226/226 [==============================] - 2252s 10s/step - loss: 0.9311 - accuracy: 0.6528 - val_loss: 1.0214 - val_accuracy: 0.6261\n",
      "Epoch 74/100\n",
      "226/226 [==============================] - 2276s 10s/step - loss: 0.9241 - accuracy: 0.6552 - val_loss: 1.0331 - val_accuracy: 0.6163\n",
      "Epoch 75/100\n",
      "226/226 [==============================] - 2258s 10s/step - loss: 0.9130 - accuracy: 0.6584 - val_loss: 1.0376 - val_accuracy: 0.6207\n",
      "Epoch 76/100\n",
      "226/226 [==============================] - 2323s 10s/step - loss: 0.9255 - accuracy: 0.6566 - val_loss: 1.0304 - val_accuracy: 0.6214\n",
      "Epoch 77/100\n",
      "226/226 [==============================] - 2266s 10s/step - loss: 0.9050 - accuracy: 0.6633 - val_loss: 1.0196 - val_accuracy: 0.6258\n",
      "Epoch 78/100\n",
      "226/226 [==============================] - 2271s 10s/step - loss: 0.9155 - accuracy: 0.6597 - val_loss: 1.0324 - val_accuracy: 0.6204\n",
      "Epoch 79/100\n",
      "226/226 [==============================] - 2272s 10s/step - loss: 0.8986 - accuracy: 0.6677 - val_loss: 1.0402 - val_accuracy: 0.6200\n",
      "Epoch 80/100\n",
      "226/226 [==============================] - 2262s 10s/step - loss: 0.8967 - accuracy: 0.6688 - val_loss: 1.0211 - val_accuracy: 0.6261\n",
      "Epoch 81/100\n",
      "226/226 [==============================] - 2248s 10s/step - loss: 0.9011 - accuracy: 0.6660 - val_loss: 1.0278 - val_accuracy: 0.6217\n",
      "Epoch 82/100\n",
      "226/226 [==============================] - 2287s 10s/step - loss: 0.8912 - accuracy: 0.6676 - val_loss: 1.0297 - val_accuracy: 0.6240\n",
      "Epoch 83/100\n",
      "226/226 [==============================] - 1902s 8s/step - loss: 0.8929 - accuracy: 0.6687 - val_loss: 1.0203 - val_accuracy: 0.6237\n",
      "Epoch 84/100\n",
      "226/226 [==============================] - 2199s 10s/step - loss: 0.8858 - accuracy: 0.6696 - val_loss: 1.0299 - val_accuracy: 0.6255\n",
      "Epoch 85/100\n",
      "226/226 [==============================] - 2458s 11s/step - loss: 0.8715 - accuracy: 0.6755 - val_loss: 1.0179 - val_accuracy: 0.6274\n",
      "Epoch 86/100\n",
      "226/226 [==============================] - 2143s 9s/step - loss: 0.8754 - accuracy: 0.6733 - val_loss: 1.0346 - val_accuracy: 0.6227\n",
      "Epoch 87/100\n",
      "226/226 [==============================] - 2190s 10s/step - loss: 0.8674 - accuracy: 0.6811 - val_loss: 1.0295 - val_accuracy: 0.6258\n",
      "Epoch 88/100\n",
      "226/226 [==============================] - 2982s 13s/step - loss: 0.8638 - accuracy: 0.6779 - val_loss: 1.0285 - val_accuracy: 0.6264\n",
      "Epoch 89/100\n",
      "226/226 [==============================] - 6682s 30s/step - loss: 0.8695 - accuracy: 0.6812 - val_loss: 1.0247 - val_accuracy: 0.6281\n",
      "Epoch 90/100\n",
      "226/226 [==============================] - 2278s 10s/step - loss: 0.8531 - accuracy: 0.6829 - val_loss: 1.0276 - val_accuracy: 0.6230\n",
      "Epoch 91/100\n",
      "226/226 [==============================] - 3476s 15s/step - loss: 0.8595 - accuracy: 0.6818 - val_loss: 1.0388 - val_accuracy: 0.6185\n",
      "Epoch 92/100\n",
      "226/226 [==============================] - 2855s 13s/step - loss: 0.8564 - accuracy: 0.6812 - val_loss: 1.0271 - val_accuracy: 0.6261\n",
      "Epoch 93/100\n",
      "226/226 [==============================] - 3148s 14s/step - loss: 0.8537 - accuracy: 0.6842 - val_loss: 1.0445 - val_accuracy: 0.6210\n",
      "Epoch 94/100\n",
      "226/226 [==============================] - 2272s 10s/step - loss: 0.8450 - accuracy: 0.6853 - val_loss: 1.0515 - val_accuracy: 0.6162\n",
      "Epoch 95/100\n",
      "226/226 [==============================] - 2450s 11s/step - loss: 0.8461 - accuracy: 0.6860 - val_loss: 1.0262 - val_accuracy: 0.6255\n",
      "Epoch 96/100\n",
      "226/226 [==============================] - 2462s 11s/step - loss: 0.8348 - accuracy: 0.6901 - val_loss: 1.0374 - val_accuracy: 0.6220\n",
      "Epoch 97/100\n",
      "226/226 [==============================] - 2989s 13s/step - loss: 0.8433 - accuracy: 0.6894 - val_loss: 1.0316 - val_accuracy: 0.6252\n",
      "Epoch 98/100\n",
      "226/226 [==============================] - 2355s 10s/step - loss: 0.8436 - accuracy: 0.6871 - val_loss: 1.0334 - val_accuracy: 0.6245\n",
      "Epoch 99/100\n",
      "226/226 [==============================] - 2028s 9s/step - loss: 0.8391 - accuracy: 0.6908 - val_loss: 1.0334 - val_accuracy: 0.6275\n",
      "Epoch 100/100\n",
      "226/226 [==============================] - 2467s 11s/step - loss: 0.8312 - accuracy: 0.6922 - val_loss: 1.0362 - val_accuracy: 0.6262\n"
     ]
    },
    {
     "data": {
      "text/plain": [
       "<keras.src.callbacks.History at 0x1dd90e34ee0>"
      ]
     },
     "execution_count": 20,
     "metadata": {},
     "output_type": "execute_result"
    }
   ],
   "source": [
    "model.compile(optimizer='adam', loss='categorical_crossentropy', metrics='accuracy')\n",
    "model.fit(x=x_train, y=y_train, batch_size=128, epochs=100, validation_data=(x_test, y_test))"
   ]
  },
  {
   "cell_type": "code",
   "execution_count": 25,
   "metadata": {},
   "outputs": [],
   "source": [
    "model_json = model.to_json()\n",
    "with open(\"emotiondetector.json\", \"w\") as json_file:\n",
    "    json_file.write(model_json)\n",
    "model.save('emotiondetector.h5')"
   ]
  },
  {
   "cell_type": "code",
   "execution_count": 28,
   "metadata": {},
   "outputs": [],
   "source": [
    "from keras.models import model_from_json\n",
    "json_file = open(\"facialemotionmodel.json\", \"r\")\n",
    "model_json = json_file.read()\n",
    "json_file.close()\n",
    "model = model_from_json(model_json)\n",
    "model.load_weights(\"facialemotionmodel.h5\")"
   ]
  },
  {
   "cell_type": "code",
   "execution_count": 29,
   "metadata": {},
   "outputs": [],
   "source": [
    "label = ['angry', 'disgust', 'fear', 'happy', 'neutral', 'sad', 'suprise']"
   ]
  },
  {
   "cell_type": "code",
   "execution_count": 30,
   "metadata": {},
   "outputs": [],
   "source": [
    "def ef(image):\n",
    "    img = load_img(image, grayscale = True)\n",
    "    feature = np.array(img)\n",
    "    feature.reshape((1, 48, 48, 1))\n",
    "    return feature/255.0"
   ]
  },
  {
   "cell_type": "code",
   "execution_count": 40,
   "metadata": {},
   "outputs": [
    {
     "name": "stdout",
     "output_type": "stream",
     "text": [
      "original image is angry\n"
     ]
    },
    {
     "ename": "ValueError",
     "evalue": "in user code:\n\n    File \"c:\\Users\\Rizal\\AppData\\Local\\Programs\\Python\\Python39\\lib\\site-packages\\keras\\src\\engine\\training.py\", line 2440, in predict_function  *\n        return step_function(self, iterator)\n    File \"c:\\Users\\Rizal\\AppData\\Local\\Programs\\Python\\Python39\\lib\\site-packages\\keras\\src\\engine\\training.py\", line 2425, in step_function  **\n        outputs = model.distribute_strategy.run(run_step, args=(data,))\n    File \"c:\\Users\\Rizal\\AppData\\Local\\Programs\\Python\\Python39\\lib\\site-packages\\keras\\src\\engine\\training.py\", line 2413, in run_step  **\n        outputs = model.predict_step(data)\n    File \"c:\\Users\\Rizal\\AppData\\Local\\Programs\\Python\\Python39\\lib\\site-packages\\keras\\src\\engine\\training.py\", line 2381, in predict_step\n        return self(x, training=False)\n    File \"c:\\Users\\Rizal\\AppData\\Local\\Programs\\Python\\Python39\\lib\\site-packages\\keras\\src\\utils\\traceback_utils.py\", line 70, in error_handler\n        raise e.with_traceback(filtered_tb) from None\n    File \"c:\\Users\\Rizal\\AppData\\Local\\Programs\\Python\\Python39\\lib\\site-packages\\keras\\src\\engine\\input_spec.py\", line 253, in assert_input_compatibility\n        raise ValueError(\n\n    ValueError: Exception encountered when calling layer 'sequential' (type Sequential).\n    \n    Input 0 of layer \"conv2d\" is incompatible with the layer: expected min_ndim=4, found ndim=2. Full shape received: (None, 48)\n    \n    Call arguments received by layer 'sequential' (type Sequential):\n      • inputs=tf.Tensor(shape=(None, 48), dtype=float32)\n      • training=False\n      • mask=None\n",
     "output_type": "error",
     "traceback": [
      "\u001b[1;31m---------------------------------------------------------------------------\u001b[0m",
      "\u001b[1;31mValueError\u001b[0m                                Traceback (most recent call last)",
      "\u001b[1;32md:\\Rekayasa_Perangkat_Lunak\\Artificial_Intellegence\\test-emotion-recognition\\trainmodel.ipynb Cell 23\u001b[0m line \u001b[0;36m4\n\u001b[0;32m      <a href='vscode-notebook-cell:/d%3A/Rekayasa_Perangkat_Lunak/Artificial_Intellegence/test-emotion-recognition/trainmodel.ipynb#X31sZmlsZQ%3D%3D?line=1'>2</a>\u001b[0m \u001b[39mprint\u001b[39m(\u001b[39m'\u001b[39m\u001b[39moriginal image is angry\u001b[39m\u001b[39m'\u001b[39m)\n\u001b[0;32m      <a href='vscode-notebook-cell:/d%3A/Rekayasa_Perangkat_Lunak/Artificial_Intellegence/test-emotion-recognition/trainmodel.ipynb#X31sZmlsZQ%3D%3D?line=2'>3</a>\u001b[0m img \u001b[39m=\u001b[39m ef(image)\n\u001b[1;32m----> <a href='vscode-notebook-cell:/d%3A/Rekayasa_Perangkat_Lunak/Artificial_Intellegence/test-emotion-recognition/trainmodel.ipynb#X31sZmlsZQ%3D%3D?line=3'>4</a>\u001b[0m pred \u001b[39m=\u001b[39m model\u001b[39m.\u001b[39;49mpredict(img)\n\u001b[0;32m      <a href='vscode-notebook-cell:/d%3A/Rekayasa_Perangkat_Lunak/Artificial_Intellegence/test-emotion-recognition/trainmodel.ipynb#X31sZmlsZQ%3D%3D?line=4'>5</a>\u001b[0m pred_label \u001b[39m=\u001b[39m label[pred\u001b[39m.\u001b[39margmax()]\n\u001b[0;32m      <a href='vscode-notebook-cell:/d%3A/Rekayasa_Perangkat_Lunak/Artificial_Intellegence/test-emotion-recognition/trainmodel.ipynb#X31sZmlsZQ%3D%3D?line=5'>6</a>\u001b[0m \u001b[39mprint\u001b[39m(\u001b[39m\"\u001b[39m\u001b[39mmodel prediction is\u001b[39m\u001b[39m\"\u001b[39m, pred_label)\n",
      "File \u001b[1;32mc:\\Users\\Rizal\\AppData\\Local\\Programs\\Python\\Python39\\lib\\site-packages\\keras\\src\\utils\\traceback_utils.py:70\u001b[0m, in \u001b[0;36mfilter_traceback.<locals>.error_handler\u001b[1;34m(*args, **kwargs)\u001b[0m\n\u001b[0;32m     67\u001b[0m     filtered_tb \u001b[39m=\u001b[39m _process_traceback_frames(e\u001b[39m.\u001b[39m__traceback__)\n\u001b[0;32m     68\u001b[0m     \u001b[39m# To get the full stack trace, call:\u001b[39;00m\n\u001b[0;32m     69\u001b[0m     \u001b[39m# `tf.debugging.disable_traceback_filtering()`\u001b[39;00m\n\u001b[1;32m---> 70\u001b[0m     \u001b[39mraise\u001b[39;00m e\u001b[39m.\u001b[39mwith_traceback(filtered_tb) \u001b[39mfrom\u001b[39;00m \u001b[39mNone\u001b[39;00m\n\u001b[0;32m     71\u001b[0m \u001b[39mfinally\u001b[39;00m:\n\u001b[0;32m     72\u001b[0m     \u001b[39mdel\u001b[39;00m filtered_tb\n",
      "File \u001b[1;32m~\\AppData\\Local\\Temp\\__autograph_generated_file8b7xwqfw.py:15\u001b[0m, in \u001b[0;36mouter_factory.<locals>.inner_factory.<locals>.tf__predict_function\u001b[1;34m(iterator)\u001b[0m\n\u001b[0;32m     13\u001b[0m \u001b[39mtry\u001b[39;00m:\n\u001b[0;32m     14\u001b[0m     do_return \u001b[39m=\u001b[39m \u001b[39mTrue\u001b[39;00m\n\u001b[1;32m---> 15\u001b[0m     retval_ \u001b[39m=\u001b[39m ag__\u001b[39m.\u001b[39mconverted_call(ag__\u001b[39m.\u001b[39mld(step_function), (ag__\u001b[39m.\u001b[39mld(\u001b[39mself\u001b[39m), ag__\u001b[39m.\u001b[39mld(iterator)), \u001b[39mNone\u001b[39;00m, fscope)\n\u001b[0;32m     16\u001b[0m \u001b[39mexcept\u001b[39;00m:\n\u001b[0;32m     17\u001b[0m     do_return \u001b[39m=\u001b[39m \u001b[39mFalse\u001b[39;00m\n",
      "\u001b[1;31mValueError\u001b[0m: in user code:\n\n    File \"c:\\Users\\Rizal\\AppData\\Local\\Programs\\Python\\Python39\\lib\\site-packages\\keras\\src\\engine\\training.py\", line 2440, in predict_function  *\n        return step_function(self, iterator)\n    File \"c:\\Users\\Rizal\\AppData\\Local\\Programs\\Python\\Python39\\lib\\site-packages\\keras\\src\\engine\\training.py\", line 2425, in step_function  **\n        outputs = model.distribute_strategy.run(run_step, args=(data,))\n    File \"c:\\Users\\Rizal\\AppData\\Local\\Programs\\Python\\Python39\\lib\\site-packages\\keras\\src\\engine\\training.py\", line 2413, in run_step  **\n        outputs = model.predict_step(data)\n    File \"c:\\Users\\Rizal\\AppData\\Local\\Programs\\Python\\Python39\\lib\\site-packages\\keras\\src\\engine\\training.py\", line 2381, in predict_step\n        return self(x, training=False)\n    File \"c:\\Users\\Rizal\\AppData\\Local\\Programs\\Python\\Python39\\lib\\site-packages\\keras\\src\\utils\\traceback_utils.py\", line 70, in error_handler\n        raise e.with_traceback(filtered_tb) from None\n    File \"c:\\Users\\Rizal\\AppData\\Local\\Programs\\Python\\Python39\\lib\\site-packages\\keras\\src\\engine\\input_spec.py\", line 253, in assert_input_compatibility\n        raise ValueError(\n\n    ValueError: Exception encountered when calling layer 'sequential' (type Sequential).\n    \n    Input 0 of layer \"conv2d\" is incompatible with the layer: expected min_ndim=4, found ndim=2. Full shape received: (None, 48)\n    \n    Call arguments received by layer 'sequential' (type Sequential):\n      • inputs=tf.Tensor(shape=(None, 48), dtype=float32)\n      • training=False\n      • mask=None\n"
     ]
    }
   ],
   "source": [
    "image = 'images/train/angry/22.jpg'\n",
    "print('original image is angry')\n",
    "img = ef(image)\n",
    "pred = model.predict(img)\n",
    "pred_label = label[pred.argmax()]\n",
    "print(\"model prediction is\", pred_label)"
   ]
  },
  {
   "cell_type": "code",
   "execution_count": 41,
   "metadata": {},
   "outputs": [
    {
     "name": "stdout",
     "output_type": "stream",
     "text": [
      "original image is sad\n"
     ]
    },
    {
     "name": "stderr",
     "output_type": "stream",
     "text": [
      "c:\\Users\\Rizal\\AppData\\Local\\Programs\\Python\\Python39\\lib\\site-packages\\keras\\src\\utils\\image_utils.py:409: UserWarning: grayscale is deprecated. Please use color_mode = \"grayscale\"\n",
      "  warnings.warn(\n"
     ]
    },
    {
     "ename": "ValueError",
     "evalue": "in user code:\n\n    File \"c:\\Users\\Rizal\\AppData\\Local\\Programs\\Python\\Python39\\lib\\site-packages\\keras\\src\\engine\\training.py\", line 2440, in predict_function  *\n        return step_function(self, iterator)\n    File \"c:\\Users\\Rizal\\AppData\\Local\\Programs\\Python\\Python39\\lib\\site-packages\\keras\\src\\engine\\training.py\", line 2425, in step_function  **\n        outputs = model.distribute_strategy.run(run_step, args=(data,))\n    File \"c:\\Users\\Rizal\\AppData\\Local\\Programs\\Python\\Python39\\lib\\site-packages\\keras\\src\\engine\\training.py\", line 2413, in run_step  **\n        outputs = model.predict_step(data)\n    File \"c:\\Users\\Rizal\\AppData\\Local\\Programs\\Python\\Python39\\lib\\site-packages\\keras\\src\\engine\\training.py\", line 2381, in predict_step\n        return self(x, training=False)\n    File \"c:\\Users\\Rizal\\AppData\\Local\\Programs\\Python\\Python39\\lib\\site-packages\\keras\\src\\utils\\traceback_utils.py\", line 70, in error_handler\n        raise e.with_traceback(filtered_tb) from None\n    File \"c:\\Users\\Rizal\\AppData\\Local\\Programs\\Python\\Python39\\lib\\site-packages\\keras\\src\\engine\\input_spec.py\", line 253, in assert_input_compatibility\n        raise ValueError(\n\n    ValueError: Exception encountered when calling layer 'sequential' (type Sequential).\n    \n    Input 0 of layer \"conv2d\" is incompatible with the layer: expected min_ndim=4, found ndim=2. Full shape received: (None, 48)\n    \n    Call arguments received by layer 'sequential' (type Sequential):\n      • inputs=tf.Tensor(shape=(None, 48), dtype=float32)\n      • training=False\n      • mask=None\n",
     "output_type": "error",
     "traceback": [
      "\u001b[1;31m---------------------------------------------------------------------------\u001b[0m",
      "\u001b[1;31mValueError\u001b[0m                                Traceback (most recent call last)",
      "\u001b[1;32md:\\Rekayasa_Perangkat_Lunak\\Artificial_Intellegence\\test-emotion-recognition\\trainmodel.ipynb Cell 24\u001b[0m line \u001b[0;36m7\n\u001b[0;32m      <a href='vscode-notebook-cell:/d%3A/Rekayasa_Perangkat_Lunak/Artificial_Intellegence/test-emotion-recognition/trainmodel.ipynb#X32sZmlsZQ%3D%3D?line=4'>5</a>\u001b[0m \u001b[39mprint\u001b[39m(\u001b[39m'\u001b[39m\u001b[39moriginal image is sad\u001b[39m\u001b[39m'\u001b[39m)\n\u001b[0;32m      <a href='vscode-notebook-cell:/d%3A/Rekayasa_Perangkat_Lunak/Artificial_Intellegence/test-emotion-recognition/trainmodel.ipynb#X32sZmlsZQ%3D%3D?line=5'>6</a>\u001b[0m img \u001b[39m=\u001b[39m ef(image)\n\u001b[1;32m----> <a href='vscode-notebook-cell:/d%3A/Rekayasa_Perangkat_Lunak/Artificial_Intellegence/test-emotion-recognition/trainmodel.ipynb#X32sZmlsZQ%3D%3D?line=6'>7</a>\u001b[0m pred \u001b[39m=\u001b[39m model\u001b[39m.\u001b[39;49mpredict(img)\n\u001b[0;32m      <a href='vscode-notebook-cell:/d%3A/Rekayasa_Perangkat_Lunak/Artificial_Intellegence/test-emotion-recognition/trainmodel.ipynb#X32sZmlsZQ%3D%3D?line=7'>8</a>\u001b[0m pred_label \u001b[39m=\u001b[39m label[pred\u001b[39m.\u001b[39margmax()]\n\u001b[0;32m      <a href='vscode-notebook-cell:/d%3A/Rekayasa_Perangkat_Lunak/Artificial_Intellegence/test-emotion-recognition/trainmodel.ipynb#X32sZmlsZQ%3D%3D?line=8'>9</a>\u001b[0m \u001b[39mprint\u001b[39m(\u001b[39m\"\u001b[39m\u001b[39mmodel prediction is\u001b[39m\u001b[39m\"\u001b[39m, pred_label)\n",
      "File \u001b[1;32mc:\\Users\\Rizal\\AppData\\Local\\Programs\\Python\\Python39\\lib\\site-packages\\keras\\src\\utils\\traceback_utils.py:70\u001b[0m, in \u001b[0;36mfilter_traceback.<locals>.error_handler\u001b[1;34m(*args, **kwargs)\u001b[0m\n\u001b[0;32m     67\u001b[0m     filtered_tb \u001b[39m=\u001b[39m _process_traceback_frames(e\u001b[39m.\u001b[39m__traceback__)\n\u001b[0;32m     68\u001b[0m     \u001b[39m# To get the full stack trace, call:\u001b[39;00m\n\u001b[0;32m     69\u001b[0m     \u001b[39m# `tf.debugging.disable_traceback_filtering()`\u001b[39;00m\n\u001b[1;32m---> 70\u001b[0m     \u001b[39mraise\u001b[39;00m e\u001b[39m.\u001b[39mwith_traceback(filtered_tb) \u001b[39mfrom\u001b[39;00m \u001b[39mNone\u001b[39;00m\n\u001b[0;32m     71\u001b[0m \u001b[39mfinally\u001b[39;00m:\n\u001b[0;32m     72\u001b[0m     \u001b[39mdel\u001b[39;00m filtered_tb\n",
      "File \u001b[1;32m~\\AppData\\Local\\Temp\\__autograph_generated_file8b7xwqfw.py:15\u001b[0m, in \u001b[0;36mouter_factory.<locals>.inner_factory.<locals>.tf__predict_function\u001b[1;34m(iterator)\u001b[0m\n\u001b[0;32m     13\u001b[0m \u001b[39mtry\u001b[39;00m:\n\u001b[0;32m     14\u001b[0m     do_return \u001b[39m=\u001b[39m \u001b[39mTrue\u001b[39;00m\n\u001b[1;32m---> 15\u001b[0m     retval_ \u001b[39m=\u001b[39m ag__\u001b[39m.\u001b[39mconverted_call(ag__\u001b[39m.\u001b[39mld(step_function), (ag__\u001b[39m.\u001b[39mld(\u001b[39mself\u001b[39m), ag__\u001b[39m.\u001b[39mld(iterator)), \u001b[39mNone\u001b[39;00m, fscope)\n\u001b[0;32m     16\u001b[0m \u001b[39mexcept\u001b[39;00m:\n\u001b[0;32m     17\u001b[0m     do_return \u001b[39m=\u001b[39m \u001b[39mFalse\u001b[39;00m\n",
      "\u001b[1;31mValueError\u001b[0m: in user code:\n\n    File \"c:\\Users\\Rizal\\AppData\\Local\\Programs\\Python\\Python39\\lib\\site-packages\\keras\\src\\engine\\training.py\", line 2440, in predict_function  *\n        return step_function(self, iterator)\n    File \"c:\\Users\\Rizal\\AppData\\Local\\Programs\\Python\\Python39\\lib\\site-packages\\keras\\src\\engine\\training.py\", line 2425, in step_function  **\n        outputs = model.distribute_strategy.run(run_step, args=(data,))\n    File \"c:\\Users\\Rizal\\AppData\\Local\\Programs\\Python\\Python39\\lib\\site-packages\\keras\\src\\engine\\training.py\", line 2413, in run_step  **\n        outputs = model.predict_step(data)\n    File \"c:\\Users\\Rizal\\AppData\\Local\\Programs\\Python\\Python39\\lib\\site-packages\\keras\\src\\engine\\training.py\", line 2381, in predict_step\n        return self(x, training=False)\n    File \"c:\\Users\\Rizal\\AppData\\Local\\Programs\\Python\\Python39\\lib\\site-packages\\keras\\src\\utils\\traceback_utils.py\", line 70, in error_handler\n        raise e.with_traceback(filtered_tb) from None\n    File \"c:\\Users\\Rizal\\AppData\\Local\\Programs\\Python\\Python39\\lib\\site-packages\\keras\\src\\engine\\input_spec.py\", line 253, in assert_input_compatibility\n        raise ValueError(\n\n    ValueError: Exception encountered when calling layer 'sequential' (type Sequential).\n    \n    Input 0 of layer \"conv2d\" is incompatible with the layer: expected min_ndim=4, found ndim=2. Full shape received: (None, 48)\n    \n    Call arguments received by layer 'sequential' (type Sequential):\n      • inputs=tf.Tensor(shape=(None, 48), dtype=float32)\n      • training=False\n      • mask=None\n"
     ]
    }
   ],
   "source": [
    "import matplotlib.pyplot as plt\n",
    "%matplotlib inline\n",
    "\n",
    "image = 'images/train/sad/42.jpg'\n",
    "print('original image is sad')\n",
    "img = ef(image)\n",
    "pred = model.predict(img)\n",
    "pred_label = label[pred.argmax()]\n",
    "print(\"model prediction is\", pred_label)\n",
    "plt.imshow(img.reshape(48, 48), cmap='gray')"
   ]
  }
 ],
 "metadata": {
  "kernelspec": {
   "display_name": "Env",
   "language": "python",
   "name": "python3"
  },
  "language_info": {
   "codemirror_mode": {
    "name": "ipython",
    "version": 3
   },
   "file_extension": ".py",
   "mimetype": "text/x-python",
   "name": "python",
   "nbconvert_exporter": "python",
   "pygments_lexer": "ipython3",
   "version": "3.9.6"
  }
 },
 "nbformat": 4,
 "nbformat_minor": 2
}
